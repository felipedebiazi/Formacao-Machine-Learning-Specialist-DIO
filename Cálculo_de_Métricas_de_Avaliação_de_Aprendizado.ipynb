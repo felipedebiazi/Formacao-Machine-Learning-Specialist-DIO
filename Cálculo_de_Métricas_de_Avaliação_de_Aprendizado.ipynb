{
  "nbformat": 4,
  "nbformat_minor": 0,
  "metadata": {
    "colab": {
      "name": " Cálculo de Métricas de Avaliação de Aprendizado.ipynb",
      "provenance": [],
      "collapsed_sections": [],
      "authorship_tag": "ABX9TyNZd5H60mpPVY/0Xto3yPKH",
      "include_colab_link": true
    },
    "kernelspec": {
      "name": "python3",
      "display_name": "Python 3"
    },
    "language_info": {
      "name": "python"
    }
  },
  "cells": [
    {
      "cell_type": "markdown",
      "metadata": {
        "id": "view-in-github",
        "colab_type": "text"
      },
      "source": [
        "<a href=\"https://colab.research.google.com/github/felipedebiazi/Formacao-Machine-Learning-Specialist-DIO/blob/main/C%C3%A1lculo_de_M%C3%A9tricas_de_Avalia%C3%A7%C3%A3o_de_Aprendizado.ipynb\" target=\"_parent\"><img src=\"https://colab.research.google.com/assets/colab-badge.svg\" alt=\"Open In Colab\"/></a>"
      ]
    },
    {
      "cell_type": "code",
      "execution_count": null,
      "metadata": {
        "id": "jaAtD1IUv86N"
      },
      "outputs": [],
      "source": [
        "!pip install -q tensorflow-gpu==2.0.0"
      ]
    },
    {
      "cell_type": "code",
      "source": [
        "%tensorflow_version 2.x"
      ],
      "metadata": {
        "id": "TyEBfzrfz8sr"
      },
      "execution_count": null,
      "outputs": []
    },
    {
      "cell_type": "code",
      "source": [
        "import tensorflow\n",
        "print(tensorflow.__version__)"
      ],
      "metadata": {
        "colab": {
          "base_uri": "https://localhost:8080/"
        },
        "id": "AIvxz_Wd0A42",
        "outputId": "f64b9c62-fe4f-4565-e5fb-4e981d947692"
      },
      "execution_count": null,
      "outputs": [
        {
          "output_type": "stream",
          "name": "stdout",
          "text": [
            "2.0.0\n"
          ]
        }
      ]
    },
    {
      "cell_type": "code",
      "source": [
        "from tensorflow.keras import datasets, layers, models\n",
        "import matplotlib.pyplot as plt\n",
        "import tensorflow as tf\n",
        "\n",
        "import numpy as np\n",
        "\n",
        "import seaborn as sns\n",
        "\n",
        "import pandas as pd"
      ],
      "metadata": {
        "id": "i3aLHEjGwQnT"
      },
      "execution_count": null,
      "outputs": []
    },
    {
      "cell_type": "code",
      "source": [
        "%load_ext tensorboard"
      ],
      "metadata": {
        "id": "bpAQ4xlmwVI7"
      },
      "execution_count": null,
      "outputs": []
    },
    {
      "cell_type": "code",
      "source": [
        "logdir='log'"
      ],
      "metadata": {
        "id": "UXyHk0l_wWyD"
      },
      "execution_count": null,
      "outputs": []
    },
    {
      "cell_type": "code",
      "source": [
        "(train_images, train_labels), (test_images, test_labels) = datasets.mnist.load_data()\n",
        "\n",
        "train_images = train_images.reshape((60000, 28, 28, 1))\n",
        "test_images = test_images.reshape((10000, 28, 28, 1))\n",
        "\n",
        "train_images, test_images = train_images / 255.0, test_images / 255.0\n",
        "\n",
        "classes=[0,1,2,3,4,5,6,7,8,9]"
      ],
      "metadata": {
        "id": "64mdvzejwYJw"
      },
      "execution_count": null,
      "outputs": []
    },
    {
      "cell_type": "code",
      "source": [
        "model = models.Sequential()\n",
        "model.add(layers.Conv2D(32, (3, 3), activation='relu', input_shape=(28, 28, 1)))\n",
        "model.add(layers.MaxPooling2D((2, 2)))\n",
        "model.add(layers.Conv2D(64, (3, 3), activation='relu'))\n",
        "model.add(layers.MaxPooling2D((2, 2)))\n",
        "model.add(layers.Conv2D(64, (3, 3), activation='relu'))\n",
        "\n",
        "model.add(layers.Flatten())\n",
        "model.add(layers.Dense(64, activation='relu'))\n",
        "model.add(layers.Dense(10, activation='softmax'))"
      ],
      "metadata": {
        "id": "3L-acGbyybGj"
      },
      "execution_count": null,
      "outputs": []
    },
    {
      "cell_type": "code",
      "source": [
        "tensorboard_callback = tf.keras.callbacks.TensorBoard(logdir, histogram_freq=1)"
      ],
      "metadata": {
        "id": "WrLesUnsydDE"
      },
      "execution_count": null,
      "outputs": []
    },
    {
      "cell_type": "code",
      "source": [
        "model.compile(optimizer='adam',\n",
        "              loss='sparse_categorical_crossentropy',\n",
        "              metrics=['accuracy'])\n",
        "\n",
        "model.fit(x=train_images, \n",
        "            y=train_labels, \n",
        "            epochs=1, \n",
        "            validation_data=(test_images, test_labels))"
      ],
      "metadata": {
        "colab": {
          "base_uri": "https://localhost:8080/"
        },
        "id": "6qy8pJTvyfBl",
        "outputId": "a74196b5-39f0-488b-9267-d609fcb83673"
      },
      "execution_count": null,
      "outputs": [
        {
          "output_type": "stream",
          "name": "stdout",
          "text": [
            "Train on 60000 samples, validate on 10000 samples\n",
            "60000/60000 [==============================] - 74s 1ms/sample - loss: 0.1517 - accuracy: 0.9521 - val_loss: 0.0605 - val_accuracy: 0.9824\n"
          ]
        },
        {
          "output_type": "execute_result",
          "data": {
            "text/plain": [
              "<tensorflow.python.keras.callbacks.History at 0x7f0e41467d90>"
            ]
          },
          "metadata": {},
          "execution_count": 10
        }
      ]
    },
    {
      "cell_type": "code",
      "source": [
        "y_true=test_labels\n",
        "y_pred=model.predict_classes(test_images)"
      ],
      "metadata": {
        "id": "kMqi_XAy1Zot"
      },
      "execution_count": null,
      "outputs": []
    },
    {
      "cell_type": "code",
      "source": [
        "classes=[0,1,2,3,4,5,6,7,8,9]"
      ],
      "metadata": {
        "id": "4ytMbHX_zNjV"
      },
      "execution_count": null,
      "outputs": []
    },
    {
      "cell_type": "code",
      "source": [
        "con_mat = tf.math.confusion_matrix(labels=y_true, predictions=y_pred).numpy()\n",
        "con_mat_norm = np.around(con_mat.astype('float') / con_mat.sum(axis=1)[:, np.newaxis], decimals=2)\n",
        "\n",
        "con_mat_df = pd.DataFrame(con_mat_norm,\n",
        "                     index = classes, \n",
        "                     columns = classes)\n",
        "\n",
        "figure = plt.figure(figsize=(8, 8))\n",
        "sns.heatmap(con_mat_df, annot=True,cmap=plt.cm.Blues)\n",
        "plt.tight_layout()\n",
        "plt.ylabel('True label')\n",
        "plt.xlabel('Predicted label')\n",
        "plt.show()"
      ],
      "metadata": {
        "colab": {
          "base_uri": "https://localhost:8080/",
          "height": 599
        },
        "id": "jdtaBwYQzQiE",
        "outputId": "cfc8e36d-0791-4075-ff78-1d5506480d9f"
      },
      "execution_count": null,
      "outputs": [
        {
          "output_type": "display_data",
          "data": {
            "text/plain": [
              "<Figure size 576x576 with 2 Axes>"
            ],
            "image/png": "[encoded data removed]"
          },
          "metadata": {
            "needs_background": "light"
          }
        }
      ]
    },
    {
      "cell_type": "code",
      "source": [
        "FP = con_mat.sum(axis=0) - np.diag(con_mat) \n",
        "FN = con_mat.sum(axis=1) - np.diag(con_mat)\n",
        "VP = np.diag(con_mat)\n",
        "VN = con_mat.sum() - (FP + FN + VP)\n",
        "total_itens = 10000\n",
        "\n",
        "# O resultado são arrays de 10 elementos (um para cada classe).\n",
        "# FP[10] - array com os falsos positivos das 10 classes\n",
        "# FN[10] - array com os falsos negativos das 10 classes\n",
        "# VP[10] - array com os verdadeiros positivos das 10 classes\n",
        "# VN[10] - array com os verdadeiros negativos das 10 classes\n",
        "\n",
        "acuracia =  (VP + VN)/(FP + FN + VP + VN)\n",
        "sensibilidade = VP/(VP+FN)\n",
        "especificidade = VN/(VN+FP)\n",
        "precisao = VP/(VP+FP)\n",
        "f_score = 2 * (precisao * sensibilidade) / (precisao + sensibilidade)\n",
        "\n",
        "\n",
        "\n",
        "print(\"Falsos Positivos: \", FP)\n",
        "print(\"Falsos Negativos: \", FN)\n",
        "print(\"Verdadeiros Positivos: \", VP)\n",
        "print(\"Verdadeiros Negativos: \", VN)\n",
        "print (\"\\nAcuracia: \", acuracia)\n",
        "print (\"\\nSensibilidade: \", sensibilidade)\n",
        "print (\"\\nEspecificidade: \", especificidade)\n",
        "print (\"\\nPrecisão: \", precisao)\n",
        "print (\"\\nf_score: \", f_score)"
      ],
      "metadata": {
        "colab": {
          "base_uri": "https://localhost:8080/"
        },
        "id": "0FE23hpQzWCM",
        "outputId": "ba434692-72e6-4776-fe73-c3cf25461f29"
      },
      "execution_count": null,
      "outputs": [
        {
          "output_type": "stream",
          "name": "stdout",
          "text": [
            "Falsos Positivos:  [28 16 28  5 41 14 11 22  5  6]\n",
            "Falsos Negativos:  [ 8  8 10 21  0 12 13 33 27 44]\n",
            "Verdadeiros Positivos:  [ 972 1127 1022  989  982  880  945  995  947  965]\n",
            "Verdadeiros Negativos:  [8992 8849 8940 8985 8977 9094 9031 8950 9021 8985]\n",
            "\n",
            "Acuracia:  [0.9964 0.9976 0.9962 0.9974 0.9959 0.9974 0.9976 0.9945 0.9968 0.995 ]\n",
            "\n",
            "Sensibilidade:  [0.99183673 0.99295154 0.99031008 0.97920792 1.         0.98654709\n",
            " 0.98643006 0.96789883 0.97227926 0.95639247]\n",
            "\n",
            "Especificidade:  [0.99689579 0.99819515 0.99687779 0.99944383 0.99545354 0.99846289\n",
            " 0.99878345 0.99754793 0.99944604 0.99933267]\n",
            "\n",
            "Precisão:  [0.972      0.98600175 0.97333333 0.99496982 0.9599218  0.98434004\n",
            " 0.98849372 0.97836775 0.9947479  0.9938208 ]\n",
            "\n",
            "f_score:  [0.98181818 0.98946444 0.98174832 0.98702595 0.97955112 0.98544233\n",
            " 0.98746082 0.97310513 0.98338525 0.97474747]\n"
          ]
        }
      ]
    }
  ]
}